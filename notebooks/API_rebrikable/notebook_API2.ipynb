{
 "cells": [
  {
   "cell_type": "code",
   "execution_count": 15,
   "id": "c84b5f9d",
   "metadata": {},
   "outputs": [],
   "source": [
    "from main_api_copy import export_bricklink_to_rebrickable_csv,get_user_token,create_partlist, get_id_list,csv_to_json_parts,add_parts_to_partlist,can_build_set,do_set_with_myparts,part_set"
   ]
  },
  {
   "cell_type": "code",
   "execution_count": 2,
   "id": "a36a573d",
   "metadata": {},
   "outputs": [],
   "source": [
    "bricklink_ids=[\"3004\", \"3006\", \"2745\", \"9959\"]  # à remplacer par la colonne id de la classification\n",
    "KEY_USER = \"91e7670a51c5f4decf0dc3cd270c973d\"\n",
    "USER_NAME = 'Legolas2007'\n",
    "PASSWORD = 'Lewagon2007'\n",
    "name_new_list ='test3'\n",
    "csv_file=\"list_parts.csv\"\n",
    "set_num=\"75301-1\""
   ]
  },
  {
   "cell_type": "code",
   "execution_count": 3,
   "id": "1a9beddb",
   "metadata": {},
   "outputs": [
    {
     "name": "stdout",
     "output_type": "stream",
     "text": [
      "[1/4] Recherche : 3004\n",
      "[2/4] Recherche : 3006\n",
      "[3/4] Recherche : 2745\n",
      "[4/4] Recherche : 9959\n",
      "\n",
      "✅ Fichier CSV mis à jour : list_parts.csv\n"
     ]
    }
   ],
   "source": [
    "export_bricklink_to_rebrickable_csv(bricklink_ids, output_file=\"list_parts.csv\")"
   ]
  },
  {
   "cell_type": "code",
   "execution_count": 4,
   "id": "0522e37d",
   "metadata": {},
   "outputs": [
    {
     "data": {
      "text/plain": [
       "'30c92eff3572798afaa17bf95833c9964be13be97f98588b35de4024f033267c'"
      ]
     },
     "execution_count": 4,
     "metadata": {},
     "output_type": "execute_result"
    }
   ],
   "source": [
    "user_token = get_user_token(USER_NAME, PASSWORD)\n",
    "user_token\n"
   ]
  },
  {
   "cell_type": "code",
   "execution_count": 5,
   "id": "5cf0c94e",
   "metadata": {},
   "outputs": [],
   "source": [
    "## CREATION DE LISTE si la liste existe dejà : change de nom de liste"
   ]
  },
  {
   "cell_type": "code",
   "execution_count": 6,
   "id": "b0a7fb01",
   "metadata": {},
   "outputs": [],
   "source": [
    "id_list = get_id_list(name_new_list,user_token)\n"
   ]
  },
  {
   "cell_type": "code",
   "execution_count": 7,
   "id": "9376507e",
   "metadata": {},
   "outputs": [],
   "source": [
    "## recupérer les informations nécessaire sur le CSV pour compléter la liste :"
   ]
  },
  {
   "cell_type": "code",
   "execution_count": 8,
   "id": "345104b5",
   "metadata": {},
   "outputs": [],
   "source": [
    "json_parts=csv_to_json_parts(csv_file)"
   ]
  },
  {
   "cell_type": "code",
   "execution_count": 9,
   "id": "2e81979d",
   "metadata": {},
   "outputs": [],
   "source": [
    "## Ajouter les parts à ma liste"
   ]
  },
  {
   "cell_type": "code",
   "execution_count": 10,
   "id": "92eaf1f2",
   "metadata": {},
   "outputs": [
    {
     "name": "stdout",
     "output_type": "stream",
     "text": [
      "Les pièces ont bien été ajoutées à la liste\n"
     ]
    }
   ],
   "source": [
    "add_parts_to_partlist(user_token, id_list, json_parts)"
   ]
  },
  {
   "cell_type": "code",
   "execution_count": 11,
   "id": "87321f70",
   "metadata": {},
   "outputs": [],
   "source": [
    "## Choisir un set et connaitre les info possible vis à vis de ma liste"
   ]
  },
  {
   "cell_type": "code",
   "execution_count": 12,
   "id": "c5e96e48",
   "metadata": {},
   "outputs": [
    {
     "data": {
      "text/html": [
       "<div>\n",
       "<style scoped>\n",
       "    .dataframe tbody tr th:only-of-type {\n",
       "        vertical-align: middle;\n",
       "    }\n",
       "\n",
       "    .dataframe tbody tr th {\n",
       "        vertical-align: top;\n",
       "    }\n",
       "\n",
       "    .dataframe thead th {\n",
       "        text-align: right;\n",
       "    }\n",
       "</style>\n",
       "<table border=\"1\" class=\"dataframe\">\n",
       "  <thead>\n",
       "    <tr style=\"text-align: right;\">\n",
       "      <th></th>\n",
       "      <th>Set</th>\n",
       "      <th>Pieces total du set</th>\n",
       "      <th>% pièces possédée du set</th>\n",
       "      <th>Nombre pièce manquante</th>\n",
       "    </tr>\n",
       "  </thead>\n",
       "  <tbody>\n",
       "    <tr>\n",
       "      <th>0</th>\n",
       "      <td>75301-1</td>\n",
       "      <td>474</td>\n",
       "      <td>3.5</td>\n",
       "      <td>447</td>\n",
       "    </tr>\n",
       "  </tbody>\n",
       "</table>\n",
       "</div>"
      ],
      "text/plain": [
       "       Set  Pieces total du set  % pièces possédée du set  \\\n",
       "0  75301-1                  474                       3.5   \n",
       "\n",
       "   Nombre pièce manquante  \n",
       "0                     447  "
      ]
     },
     "execution_count": 12,
     "metadata": {},
     "output_type": "execute_result"
    }
   ],
   "source": [
    "do_set_with_myparts(set_num, user_token)"
   ]
  },
  {
   "cell_type": "code",
   "execution_count": null,
   "id": "d5e20728",
   "metadata": {},
   "outputs": [],
   "source": [
    "# à la fin supprimer la liste"
   ]
  },
  {
   "cell_type": "code",
   "execution_count": 18,
   "id": "7ade017b",
   "metadata": {},
   "outputs": [
    {
     "data": {
      "text/html": [
       "<div>\n",
       "<style scoped>\n",
       "    .dataframe tbody tr th:only-of-type {\n",
       "        vertical-align: middle;\n",
       "    }\n",
       "\n",
       "    .dataframe tbody tr th {\n",
       "        vertical-align: top;\n",
       "    }\n",
       "\n",
       "    .dataframe thead th {\n",
       "        text-align: right;\n",
       "    }\n",
       "</style>\n",
       "<table border=\"1\" class=\"dataframe\">\n",
       "  <thead>\n",
       "    <tr style=\"text-align: right;\">\n",
       "      <th></th>\n",
       "      <th>part_num</th>\n",
       "      <th>quantity</th>\n",
       "      <th>color</th>\n",
       "    </tr>\n",
       "  </thead>\n",
       "  <tbody>\n",
       "    <tr>\n",
       "      <th>0</th>\n",
       "      <td>93095</td>\n",
       "      <td>1</td>\n",
       "      <td>0</td>\n",
       "    </tr>\n",
       "    <tr>\n",
       "      <th>1</th>\n",
       "      <td>33909</td>\n",
       "      <td>1</td>\n",
       "      <td>0</td>\n",
       "    </tr>\n",
       "    <tr>\n",
       "      <th>2</th>\n",
       "      <td>3039</td>\n",
       "      <td>1</td>\n",
       "      <td>0</td>\n",
       "    </tr>\n",
       "    <tr>\n",
       "      <th>3</th>\n",
       "      <td>32062</td>\n",
       "      <td>8</td>\n",
       "      <td>0</td>\n",
       "    </tr>\n",
       "    <tr>\n",
       "      <th>4</th>\n",
       "      <td>18651</td>\n",
       "      <td>14</td>\n",
       "      <td>0</td>\n",
       "    </tr>\n",
       "    <tr>\n",
       "      <th>...</th>\n",
       "      <td>...</td>\n",
       "      <td>...</td>\n",
       "      <td>...</td>\n",
       "    </tr>\n",
       "    <tr>\n",
       "      <th>118</th>\n",
       "      <td>30356</td>\n",
       "      <td>2</td>\n",
       "      <td>15</td>\n",
       "    </tr>\n",
       "    <tr>\n",
       "      <th>119</th>\n",
       "      <td>4856b</td>\n",
       "      <td>1</td>\n",
       "      <td>15</td>\n",
       "    </tr>\n",
       "    <tr>\n",
       "      <th>120</th>\n",
       "      <td>60479</td>\n",
       "      <td>1</td>\n",
       "      <td>14</td>\n",
       "    </tr>\n",
       "    <tr>\n",
       "      <th>121</th>\n",
       "      <td>4519</td>\n",
       "      <td>1</td>\n",
       "      <td>14</td>\n",
       "    </tr>\n",
       "    <tr>\n",
       "      <th>122</th>\n",
       "      <td>32064a</td>\n",
       "      <td>4</td>\n",
       "      <td>14</td>\n",
       "    </tr>\n",
       "  </tbody>\n",
       "</table>\n",
       "<p>123 rows × 3 columns</p>\n",
       "</div>"
      ],
      "text/plain": [
       "    part_num  quantity  color\n",
       "0      93095         1      0\n",
       "1      33909         1      0\n",
       "2       3039         1      0\n",
       "3      32062         8      0\n",
       "4      18651        14      0\n",
       "..       ...       ...    ...\n",
       "118    30356         2     15\n",
       "119    4856b         1     15\n",
       "120    60479         1     14\n",
       "121     4519         1     14\n",
       "122   32064a         4     14\n",
       "\n",
       "[123 rows x 3 columns]"
      ]
     },
     "execution_count": 18,
     "metadata": {},
     "output_type": "execute_result"
    }
   ],
   "source": [
    "df = part_set(set_num)\n",
    "df"
   ]
  },
  {
   "cell_type": "code",
   "execution_count": 23,
   "id": "fda4fb70",
   "metadata": {},
   "outputs": [
    {
     "data": {
      "text/html": [
       "<div>\n",
       "<style scoped>\n",
       "    .dataframe tbody tr th:only-of-type {\n",
       "        vertical-align: middle;\n",
       "    }\n",
       "\n",
       "    .dataframe tbody tr th {\n",
       "        vertical-align: top;\n",
       "    }\n",
       "\n",
       "    .dataframe thead th {\n",
       "        text-align: right;\n",
       "    }\n",
       "</style>\n",
       "<table border=\"1\" class=\"dataframe\">\n",
       "  <thead>\n",
       "    <tr style=\"text-align: right;\">\n",
       "      <th></th>\n",
       "      <th>Rebrickable_ID_1</th>\n",
       "      <th>color_id</th>\n",
       "      <th>quantity</th>\n",
       "    </tr>\n",
       "  </thead>\n",
       "  <tbody>\n",
       "    <tr>\n",
       "      <th>0</th>\n",
       "      <td>3004</td>\n",
       "      <td>9999</td>\n",
       "      <td>22</td>\n",
       "    </tr>\n",
       "    <tr>\n",
       "      <th>1</th>\n",
       "      <td>3006</td>\n",
       "      <td>9999</td>\n",
       "      <td>22</td>\n",
       "    </tr>\n",
       "    <tr>\n",
       "      <th>2</th>\n",
       "      <td>2745stor</td>\n",
       "      <td>9999</td>\n",
       "      <td>22</td>\n",
       "    </tr>\n",
       "    <tr>\n",
       "      <th>3</th>\n",
       "      <td>NaN</td>\n",
       "      <td>9999</td>\n",
       "      <td>22</td>\n",
       "    </tr>\n",
       "  </tbody>\n",
       "</table>\n",
       "</div>"
      ],
      "text/plain": [
       "  Rebrickable_ID_1  color_id  quantity\n",
       "0             3004      9999        22\n",
       "1             3006      9999        22\n",
       "2         2745stor      9999        22\n",
       "3              NaN      9999        22"
      ]
     },
     "execution_count": 23,
     "metadata": {},
     "output_type": "execute_result"
    }
   ],
   "source": [
    "import pandas as pd\n",
    "\n",
    "stock_df = pd.read_csv(\"list_parts.csv\")\n",
    "\n",
    "\n",
    "colonnes = [\"Rebrickable_ID_1\", \"color_id\", \"quantity\"]\n",
    "df_selection = stock_df[colonnes]\n",
    "\n",
    "df_selection\n"
   ]
  },
  {
   "cell_type": "code",
   "execution_count": null,
   "id": "fe8041ce",
   "metadata": {},
   "outputs": [],
   "source": [
    "import pandas as pd\n",
    "\n",
    "\n",
    "set_df = df\n",
    "stock_df = df_selection\n",
    "\n",
    "stock_df = stock_df.rename(columns={\n",
    "    \"Rebrickable_ID_1\": \"part_num\",\n",
    "    \"quantity\": \"available_qty\"\n",
    "})\n",
    "\n",
    "merged_df = set_df.merge(stock_df[[\"part_num\", \"available_qty\"]], on=\"part_num\", how=\"left\")\n",
    "\n",
    "# Remplacer les NaN (pièces non trouvées) par 0 dispo\n",
    "merged_df[\"available_qty\"] = merged_df[\"available_qty\"].fillna(0).astype(int)\n",
    "\n",
    "# Vérifier si la quantité disponible suffit\n",
    "merged_df[\"suffisant\"] = merged_df[\"available_qty\"] >= merged_df[\"quantity\"]"
   ]
  },
  {
   "cell_type": "code",
   "execution_count": null,
   "id": "a052a9a4",
   "metadata": {},
   "outputs": [
    {
     "data": {
      "text/html": [
       "<div>\n",
       "<style scoped>\n",
       "    .dataframe tbody tr th:only-of-type {\n",
       "        vertical-align: middle;\n",
       "    }\n",
       "\n",
       "    .dataframe tbody tr th {\n",
       "        vertical-align: top;\n",
       "    }\n",
       "\n",
       "    .dataframe thead th {\n",
       "        text-align: right;\n",
       "    }\n",
       "</style>\n",
       "<table border=\"1\" class=\"dataframe\">\n",
       "  <thead>\n",
       "    <tr style=\"text-align: right;\">\n",
       "      <th></th>\n",
       "      <th>part_num</th>\n",
       "      <th>quantity</th>\n",
       "      <th>color</th>\n",
       "      <th>available_qty</th>\n",
       "      <th>suffisant</th>\n",
       "    </tr>\n",
       "  </thead>\n",
       "  <tbody>\n",
       "    <tr>\n",
       "      <th>0</th>\n",
       "      <td>93095</td>\n",
       "      <td>1</td>\n",
       "      <td>0</td>\n",
       "      <td>0</td>\n",
       "      <td>False</td>\n",
       "    </tr>\n",
       "    <tr>\n",
       "      <th>1</th>\n",
       "      <td>33909</td>\n",
       "      <td>1</td>\n",
       "      <td>0</td>\n",
       "      <td>0</td>\n",
       "      <td>False</td>\n",
       "    </tr>\n",
       "    <tr>\n",
       "      <th>2</th>\n",
       "      <td>3039</td>\n",
       "      <td>1</td>\n",
       "      <td>0</td>\n",
       "      <td>0</td>\n",
       "      <td>False</td>\n",
       "    </tr>\n",
       "    <tr>\n",
       "      <th>3</th>\n",
       "      <td>32062</td>\n",
       "      <td>8</td>\n",
       "      <td>0</td>\n",
       "      <td>0</td>\n",
       "      <td>False</td>\n",
       "    </tr>\n",
       "    <tr>\n",
       "      <th>4</th>\n",
       "      <td>18651</td>\n",
       "      <td>14</td>\n",
       "      <td>0</td>\n",
       "      <td>0</td>\n",
       "      <td>False</td>\n",
       "    </tr>\n",
       "    <tr>\n",
       "      <th>...</th>\n",
       "      <td>...</td>\n",
       "      <td>...</td>\n",
       "      <td>...</td>\n",
       "      <td>...</td>\n",
       "      <td>...</td>\n",
       "    </tr>\n",
       "    <tr>\n",
       "      <th>118</th>\n",
       "      <td>30356</td>\n",
       "      <td>2</td>\n",
       "      <td>15</td>\n",
       "      <td>0</td>\n",
       "      <td>False</td>\n",
       "    </tr>\n",
       "    <tr>\n",
       "      <th>119</th>\n",
       "      <td>4856b</td>\n",
       "      <td>1</td>\n",
       "      <td>15</td>\n",
       "      <td>0</td>\n",
       "      <td>False</td>\n",
       "    </tr>\n",
       "    <tr>\n",
       "      <th>120</th>\n",
       "      <td>60479</td>\n",
       "      <td>1</td>\n",
       "      <td>14</td>\n",
       "      <td>0</td>\n",
       "      <td>False</td>\n",
       "    </tr>\n",
       "    <tr>\n",
       "      <th>121</th>\n",
       "      <td>4519</td>\n",
       "      <td>1</td>\n",
       "      <td>14</td>\n",
       "      <td>0</td>\n",
       "      <td>False</td>\n",
       "    </tr>\n",
       "    <tr>\n",
       "      <th>122</th>\n",
       "      <td>32064a</td>\n",
       "      <td>4</td>\n",
       "      <td>14</td>\n",
       "      <td>0</td>\n",
       "      <td>False</td>\n",
       "    </tr>\n",
       "  </tbody>\n",
       "</table>\n",
       "<p>123 rows × 5 columns</p>\n",
       "</div>"
      ],
      "text/plain": [
       "    part_num  quantity  color  available_qty  suffisant\n",
       "0      93095         1      0              0      False\n",
       "1      33909         1      0              0      False\n",
       "2       3039         1      0              0      False\n",
       "3      32062         8      0              0      False\n",
       "4      18651        14      0              0      False\n",
       "..       ...       ...    ...            ...        ...\n",
       "118    30356         2     15              0      False\n",
       "119    4856b         1     15              0      False\n",
       "120    60479         1     14              0      False\n",
       "121     4519         1     14              0      False\n",
       "122   32064a         4     14              0      False\n",
       "\n",
       "[123 rows x 5 columns]"
      ]
     },
     "execution_count": 26,
     "metadata": {},
     "output_type": "execute_result"
    }
   ],
   "source": [
    "merged_df\n"
   ]
  }
 ],
 "metadata": {
  "kernelspec": {
   "display_name": "legolas_env",
   "language": "python",
   "name": "python3"
  },
  "language_info": {
   "codemirror_mode": {
    "name": "ipython",
    "version": 3
   },
   "file_extension": ".py",
   "mimetype": "text/x-python",
   "name": "python",
   "nbconvert_exporter": "python",
   "pygments_lexer": "ipython3",
   "version": "3.10.6"
  }
 },
 "nbformat": 4,
 "nbformat_minor": 5
}
